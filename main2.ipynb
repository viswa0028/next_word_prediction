{
 "cells": [
  {
   "cell_type": "code",
   "execution_count": 1,
   "metadata": {},
   "outputs": [],
   "source": [
    "import numpy as np\n",
    "import pandas as pd\n",
    "import torch\n",
    "import torch.nn as nn\n",
    "from torch.utils.data import DataLoader, TensorDataset\n",
    "from sklearn.preprocessing import OneHotEncoder\n",
    "from collections import defaultdict\n",
    "\n",
    "# Read text file\n",
    "file = open('sherlock.txt', 'r')\n",
    "text = file.read()\n",
    "\n",
    "# Tokenize text\n",
    "tokenizer = defaultdict(lambda: len(tokenizer))  # unique index for each word\n",
    "tokenized_text = [tokenizer[word] for word in text.split()]\n",
    "\n",
    "# Set total word count\n",
    "total_word_count = len(tokenizer)\n",
    "\n",
    "# Generate input sequences for model training\n",
    "input_sequences = []\n",
    "for line in text.split('\\n'):\n",
    "    token_list = [tokenizer[word] for word in line.split() if word]\n",
    "    for i in range(1, len(token_list)):\n",
    "        n_grams = token_list[:i + 1]\n",
    "        input_sequences.append(n_grams)\n",
    "\n",
    "# Pad sequences"
   ]
  },
  {
   "cell_type": "code",
   "execution_count": 2,
   "metadata": {},
   "outputs": [],
   "source": [
    "max_sequence_length = max(len(seq) for seq in input_sequences)\n",
    "input_sequences = np.array([np.pad(seq, (max_sequence_length - len(seq), 0), 'constant') for seq in input_sequences])\n",
    "\n",
    "# Split data into X and y\n",
    "X = torch.tensor(input_sequences[:, :-1], dtype=torch.long)\n",
    "y = torch.tensor(input_sequences[:, -1], dtype=torch.long)\n",
    "\n",
    "# Define model\n",
    "class TextGenerationModel(nn.Module):\n",
    "    def __init__(self, vocab_size, embedding_dim, hidden_dim):\n",
    "        super(TextGenerationModel, self).__init__()\n",
    "        self.embedding = nn.Embedding(vocab_size, embedding_dim)\n",
    "        self.lstm = nn.LSTM(embedding_dim, hidden_dim, batch_first=True)\n",
    "        self.fc = nn.Linear(hidden_dim, vocab_size)\n",
    "\n",
    "    def forward(self, x):\n",
    "        x = self.embedding(x)\n",
    "        out, _ = self.lstm(x)\n",
    "        out = self.fc(out[:, -1, :])\n",
    "        return out"
   ]
  },
  {
   "cell_type": "code",
   "execution_count": 3,
   "metadata": {},
   "outputs": [
    {
     "name": "stdout",
     "output_type": "stream",
     "text": [
      "Epoch [1/10], Loss: 6.0895\n",
      "Epoch [2/10], Loss: 5.9101\n",
      "Epoch [3/10], Loss: 4.9870\n",
      "Epoch [4/10], Loss: 4.1733\n",
      "Epoch [5/10], Loss: 4.3087\n",
      "Epoch [6/10], Loss: 4.5993\n",
      "Epoch [7/10], Loss: 2.9191\n",
      "Epoch [8/10], Loss: 3.5271\n",
      "Epoch [9/10], Loss: 2.9597\n",
      "Epoch [10/10], Loss: 2.4367\n"
     ]
    }
   ],
   "source": [
    "vocab_size = total_word_count\n",
    "embedding_dim = 100\n",
    "hidden_dim = 100\n",
    "model = TextGenerationModel(vocab_size, embedding_dim, hidden_dim)\n",
    "\n",
    "# Set up training\n",
    "criterion = nn.CrossEntropyLoss()\n",
    "optimizer = torch.optim.Adam(model.parameters(), lr=0.001)\n",
    "device = torch.device(\"cuda\" if torch.cuda.is_available() else \"cpu\")\n",
    "model.to(device)\n",
    "X, y = X.to(device), y.to(device)\n",
    "\n",
    "# Train model\n",
    "epochs = 10\n",
    "batch_size = 32\n",
    "dataset = TensorDataset(X, y)\n",
    "data_loader = DataLoader(dataset, batch_size=batch_size, shuffle=True)\n",
    "\n",
    "for epoch in range(epochs):\n",
    "    for batch_X, batch_y in data_loader:\n",
    "        batch_X, batch_y = batch_X.to(device), batch_y.to(device)\n",
    "        \n",
    "        # Forward pass\n",
    "        outputs = model(batch_X)\n",
    "        loss = criterion(outputs, batch_y)\n",
    "        \n",
    "        # Backward pass and optimization\n",
    "        optimizer.zero_grad()\n",
    "        loss.backward()\n",
    "        optimizer.step()\n",
    "    \n",
    "    print(f'Epoch [{epoch+1}/{epochs}], Loss: {loss.item():.4f}')"
   ]
  },
  {
   "cell_type": "code",
   "execution_count": null,
   "metadata": {},
   "outputs": [],
   "source": []
  }
 ],
 "metadata": {
  "kernelspec": {
   "display_name": "Python 3",
   "language": "python",
   "name": "python3"
  },
  "language_info": {
   "codemirror_mode": {
    "name": "ipython",
    "version": 3
   },
   "file_extension": ".py",
   "mimetype": "text/x-python",
   "name": "python",
   "nbconvert_exporter": "python",
   "pygments_lexer": "ipython3",
   "version": "3.12.2"
  }
 },
 "nbformat": 4,
 "nbformat_minor": 2
}
